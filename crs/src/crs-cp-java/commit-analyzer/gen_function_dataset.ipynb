{
 "cells": [
  {
   "cell_type": "code",
   "execution_count": 1,
   "metadata": {},
   "outputs": [],
   "source": [
    "from smith.smith.code_analyzer import CCodeAnalyzer\n",
    "import json\n",
    "import tempfile\n",
    "from pathlib import Path\n",
    "import os\n",
    "from glob import glob\n",
    "from tqdm import tqdm\n"
   ]
  },
  {
   "cell_type": "code",
   "execution_count": 2,
   "metadata": {},
   "outputs": [],
   "source": [
    "FILE_DIR= \"syzbot-data\"\n",
    "FUNCTION_DIR = \"syzbot-function\"\n"
   ]
  },
  {
   "cell_type": "code",
   "execution_count": 3,
   "metadata": {},
   "outputs": [
    {
     "data": {
      "text/plain": [
       "[('static int tun_set_iff(struct net *net, struct file *file, struct ifreq *ifr)\\n{\\n\\tstruct tun_struct *tun;\\n\\tstruct tun_file *tfile = file->private_data;\\n\\tstruct net_device *dev;\\n\\tint err;\\n\\n\\tif (tfile->detached)\\n\\t\\treturn -EINVAL;\\n\\n\\tdev = __dev_get_by_name(net, ifr->ifr_name);\\n\\tif (dev) {\\n\\t\\tif (ifr->ifr_flags & IFF_TUN_EXCL)\\n\\t\\t\\treturn -EBUSY;\\n\\t\\tif ((ifr->ifr_flags & IFF_TUN) && dev->netdev_ops == &tun_netdev_ops)\\n\\t\\t\\ttun = netdev_priv(dev);\\n\\t\\telse if ((ifr->ifr_flags & IFF_TAP) && dev->netdev_ops == &tap_netdev_ops)\\n\\t\\t\\ttun = netdev_priv(dev);\\n\\t\\telse\\n\\t\\t\\treturn -EINVAL;\\n\\n\\t\\tif (!!(ifr->ifr_flags & IFF_MULTI_QUEUE) !=\\n\\t\\t    !!(tun->flags & IFF_MULTI_QUEUE))\\n\\t\\t\\treturn -EINVAL;\\n\\n\\t\\tif (tun_not_capable(tun))\\n\\t\\t\\treturn -EPERM;\\n\\t\\terr = security_tun_dev_open(tun->security);\\n\\t\\tif (err < 0)\\n\\t\\t\\treturn err;\\n\\n\\t\\terr = tun_attach(tun, file, ifr->ifr_flags & IFF_NOFILTER);\\n\\t\\tif (err < 0)\\n\\t\\t\\treturn err;\\n\\n\\t\\tif (tun->flags & IFF_MULTI_QUEUE &&\\n\\t\\t    (tun->numqueues + tun->numdisabled > 1)) {\\n\\t\\t\\t/* One or more queue has already been attached, no need\\n\\t\\t\\t * to initialize the device again.\\n\\t\\t\\t */\\n\\t\\t\\treturn 0;\\n\\t\\t}\\n\\t}\\n\\telse {\\n\\t\\tchar *name;\\n\\t\\tunsigned long flags = 0;\\n\\t\\tint queues = ifr->ifr_flags & IFF_MULTI_QUEUE ?\\n\\t\\t\\t     MAX_TAP_QUEUES : 1;\\n\\n\\t\\tif (!ns_capable(net->user_ns, CAP_NET_ADMIN))\\n\\t\\t\\treturn -EPERM;\\n\\t\\terr = security_tun_dev_create();\\n\\t\\tif (err < 0)\\n\\t\\t\\treturn err;\\n\\n\\t\\t/* Set dev type */\\n\\t\\tif (ifr->ifr_flags & IFF_TUN) {\\n\\t\\t\\t/* TUN device */\\n\\t\\t\\tflags |= IFF_TUN;\\n\\t\\t\\tname = \"tun%d\";\\n\\t\\t} else if (ifr->ifr_flags & IFF_TAP) {\\n\\t\\t\\t/* TAP device */\\n\\t\\t\\tflags |= IFF_TAP;\\n\\t\\t\\tname = \"tap%d\";\\n\\t\\t} else\\n\\t\\t\\treturn -EINVAL;\\n\\n\\t\\tif (*ifr->ifr_name)\\n\\t\\t\\tname = ifr->ifr_name;\\n\\n\\t\\tdev = alloc_netdev_mqs(sizeof(struct tun_struct), name,\\n\\t\\t\\t\\t       NET_NAME_UNKNOWN, tun_setup, queues,\\n\\t\\t\\t\\t       queues);\\n\\n\\t\\tif (!dev)\\n\\t\\t\\treturn -ENOMEM;\\n\\n\\t\\tdev_net_set(dev, net);\\n\\t\\tdev->rtnl_link_ops = &tun_link_ops;\\n\\t\\tdev->ifindex = tfile->ifindex;\\n\\t\\tdev->sysfs_groups[0] = &tun_attr_group;\\n\\n\\t\\ttun = netdev_priv(dev);\\n\\t\\ttun->dev = dev;\\n\\t\\ttun->flags = flags;\\n\\t\\ttun->txflt.count = 0;\\n\\t\\ttun->vnet_hdr_sz = sizeof(struct virtio_net_hdr);\\n\\n\\t\\ttun->align = NET_SKB_PAD;\\n\\t\\ttun->filter_attached = false;\\n\\t\\ttun->sndbuf = tfile->socket.sk->sk_sndbuf;\\n\\t\\ttun->rx_batched = 0;\\n\\n\\t\\ttun->pcpu_stats = netdev_alloc_pcpu_stats(struct tun_pcpu_stats);\\n\\t\\tif (!tun->pcpu_stats) {\\n\\t\\t\\terr = -ENOMEM;\\n\\t\\t\\tgoto err_free_dev;\\n\\t\\t}\\n\\n\\t\\tspin_lock_init(&tun->lock);\\n\\n\\t\\terr = security_tun_dev_alloc_security(&tun->security);\\n\\t\\tif (err < 0)\\n\\t\\t\\tgoto err_free_stat;\\n\\n\\t\\ttun_net_init(dev);\\n\\t\\ttun_flow_init(tun);\\n\\n\\t\\tdev->hw_features = NETIF_F_SG | NETIF_F_FRAGLIST |\\n\\t\\t\\t\\t   TUN_USER_FEATURES | NETIF_F_HW_VLAN_CTAG_TX |\\n\\t\\t\\t\\t   NETIF_F_HW_VLAN_STAG_TX;\\n\\t\\tdev->features = dev->hw_features | NETIF_F_LLTX;\\n\\t\\tdev->vlan_features = dev->features &\\n\\t\\t\\t\\t     ~(NETIF_F_HW_VLAN_CTAG_TX |\\n\\t\\t\\t\\t       NETIF_F_HW_VLAN_STAG_TX);\\n\\n\\t\\tINIT_LIST_HEAD(&tun->disabled);\\n\\t\\terr = tun_attach(tun, file, false);\\n\\t\\tif (err < 0)\\n\\t\\t\\tgoto err_free_flow;\\n\\n\\t\\terr = register_netdevice(tun->dev);\\n\\t\\tif (err < 0)\\n\\t\\t\\tgoto err_detach;\\n\\t}\\n\\n\\tnetif_carrier_on(tun->dev);\\n\\n\\ttun_debug(KERN_INFO, tun, \"tun_set_iff\\\\n\");\\n\\n\\ttun->flags = (tun->flags & ~TUN_FEATURES) |\\n\\t\\t(ifr->ifr_flags & TUN_FEATURES);\\n\\n\\t/* Make sure persistent devices do not get stuck in\\n\\t * xoff state.\\n\\t */\\n\\tif (netif_running(tun->dev))\\n\\t\\tnetif_tx_wake_all_queues(tun->dev);\\n\\n\\tstrcpy(ifr->ifr_name, tun->dev->name);\\n\\treturn 0;\\n\\nerr_detach:\\n\\ttun_detach_all(dev);\\nerr_free_flow:\\n\\ttun_flow_uninit(tun);\\n\\tsecurity_tun_dev_free_security(tun->security);\\nerr_free_stat:\\n\\tfree_percpu(tun->pcpu_stats);\\nerr_free_dev:\\n\\tfree_netdev(dev);\\n\\treturn err;\\n}\\n',\n",
       "  'static int tun_set_iff(struct net *net, struct file *file, struct ifreq *ifr)\\n{\\n\\tstruct tun_struct *tun;\\n\\tstruct tun_file *tfile = file->private_data;\\n\\tstruct net_device *dev;\\n\\tint err;\\n\\n\\tif (tfile->detached)\\n\\t\\treturn -EINVAL;\\n\\n\\tdev = __dev_get_by_name(net, ifr->ifr_name);\\n\\tif (dev) {\\n\\t\\tif (ifr->ifr_flags & IFF_TUN_EXCL)\\n\\t\\t\\treturn -EBUSY;\\n\\t\\tif ((ifr->ifr_flags & IFF_TUN) && dev->netdev_ops == &tun_netdev_ops)\\n\\t\\t\\ttun = netdev_priv(dev);\\n\\t\\telse if ((ifr->ifr_flags & IFF_TAP) && dev->netdev_ops == &tap_netdev_ops)\\n\\t\\t\\ttun = netdev_priv(dev);\\n\\t\\telse\\n\\t\\t\\treturn -EINVAL;\\n\\n\\t\\tif (!!(ifr->ifr_flags & IFF_MULTI_QUEUE) !=\\n\\t\\t    !!(tun->flags & IFF_MULTI_QUEUE))\\n\\t\\t\\treturn -EINVAL;\\n\\n\\t\\tif (tun_not_capable(tun))\\n\\t\\t\\treturn -EPERM;\\n\\t\\terr = security_tun_dev_open(tun->security);\\n\\t\\tif (err < 0)\\n\\t\\t\\treturn err;\\n\\n\\t\\terr = tun_attach(tun, file, ifr->ifr_flags & IFF_NOFILTER);\\n\\t\\tif (err < 0)\\n\\t\\t\\treturn err;\\n\\n\\t\\tif (tun->flags & IFF_MULTI_QUEUE &&\\n\\t\\t    (tun->numqueues + tun->numdisabled > 1)) {\\n\\t\\t\\t/* One or more queue has already been attached, no need\\n\\t\\t\\t * to initialize the device again.\\n\\t\\t\\t */\\n\\t\\t\\treturn 0;\\n\\t\\t}\\n\\t}\\n\\telse {\\n\\t\\tchar *name;\\n\\t\\tunsigned long flags = 0;\\n\\t\\tint queues = ifr->ifr_flags & IFF_MULTI_QUEUE ?\\n\\t\\t\\t     MAX_TAP_QUEUES : 1;\\n\\n\\t\\tif (!ns_capable(net->user_ns, CAP_NET_ADMIN))\\n\\t\\t\\treturn -EPERM;\\n\\t\\terr = security_tun_dev_create();\\n\\t\\tif (err < 0)\\n\\t\\t\\treturn err;\\n\\n\\t\\t/* Set dev type */\\n\\t\\tif (ifr->ifr_flags & IFF_TUN) {\\n\\t\\t\\t/* TUN device */\\n\\t\\t\\tflags |= IFF_TUN;\\n\\t\\t\\tname = \"tun%d\";\\n\\t\\t} else if (ifr->ifr_flags & IFF_TAP) {\\n\\t\\t\\t/* TAP device */\\n\\t\\t\\tflags |= IFF_TAP;\\n\\t\\t\\tname = \"tap%d\";\\n\\t\\t} else\\n\\t\\t\\treturn -EINVAL;\\n\\n\\t\\tif (*ifr->ifr_name)\\n\\t\\t\\tname = ifr->ifr_name;\\n\\n\\t\\tdev = alloc_netdev_mqs(sizeof(struct tun_struct), name,\\n\\t\\t\\t\\t       NET_NAME_UNKNOWN, tun_setup, queues,\\n\\t\\t\\t\\t       queues);\\n\\n\\t\\tif (!dev)\\n\\t\\t\\treturn -ENOMEM;\\n\\n\\t\\tdev_net_set(dev, net);\\n\\t\\tdev->rtnl_link_ops = &tun_link_ops;\\n\\t\\tdev->ifindex = tfile->ifindex;\\n\\t\\tdev->sysfs_groups[0] = &tun_attr_group;\\n\\n\\t\\ttun = netdev_priv(dev);\\n\\t\\ttun->dev = dev;\\n\\t\\ttun->flags = flags;\\n\\t\\ttun->txflt.count = 0;\\n\\t\\ttun->vnet_hdr_sz = sizeof(struct virtio_net_hdr);\\n\\n\\t\\ttun->align = NET_SKB_PAD;\\n\\t\\ttun->filter_attached = false;\\n\\t\\ttun->sndbuf = tfile->socket.sk->sk_sndbuf;\\n\\t\\ttun->rx_batched = 0;\\n\\n\\t\\ttun->pcpu_stats = netdev_alloc_pcpu_stats(struct tun_pcpu_stats);\\n\\t\\tif (!tun->pcpu_stats) {\\n\\t\\t\\terr = -ENOMEM;\\n\\t\\t\\tgoto err_free_dev;\\n\\t\\t}\\n\\n\\t\\tspin_lock_init(&tun->lock);\\n\\n\\t\\terr = security_tun_dev_alloc_security(&tun->security);\\n\\t\\tif (err < 0)\\n\\t\\t\\tgoto err_free_stat;\\n\\n\\t\\ttun_net_init(dev);\\n\\t\\ttun_flow_init(tun);\\n\\n\\t\\tdev->hw_features = NETIF_F_SG | NETIF_F_FRAGLIST |\\n\\t\\t\\t\\t   TUN_USER_FEATURES | NETIF_F_HW_VLAN_CTAG_TX |\\n\\t\\t\\t\\t   NETIF_F_HW_VLAN_STAG_TX;\\n\\t\\tdev->features = dev->hw_features | NETIF_F_LLTX;\\n\\t\\tdev->vlan_features = dev->features &\\n\\t\\t\\t\\t     ~(NETIF_F_HW_VLAN_CTAG_TX |\\n\\t\\t\\t\\t       NETIF_F_HW_VLAN_STAG_TX);\\n\\n\\t\\tINIT_LIST_HEAD(&tun->disabled);\\n\\t\\terr = tun_attach(tun, file, false);\\n\\t\\tif (err < 0)\\n\\t\\t\\tgoto err_free_flow;\\n\\n\\t\\terr = register_netdevice(tun->dev);\\n\\t\\tif (err < 0)\\n\\t\\t\\tgoto err_detach;\\n\\t}\\n\\n\\tnetif_carrier_on(tun->dev);\\n\\n\\ttun_debug(KERN_INFO, tun, \"tun_set_iff\\\\n\");\\n\\n\\ttun->flags = (tun->flags & ~TUN_FEATURES) |\\n\\t\\t(ifr->ifr_flags & TUN_FEATURES);\\n\\n\\t/* Make sure persistent devices do not get stuck in\\n\\t * xoff state.\\n\\t */\\n\\tif (netif_running(tun->dev))\\n\\t\\tnetif_tx_wake_all_queues(tun->dev);\\n\\n\\tstrcpy(ifr->ifr_name, tun->dev->name);\\n\\treturn 0;\\n\\nerr_detach:\\n\\ttun_detach_all(dev);\\n\\t/* register_netdevice() already called tun_free_netdev() */\\n\\tgoto err_free_dev;\\n\\nerr_free_flow:\\n\\ttun_flow_uninit(tun);\\n\\tsecurity_tun_dev_free_security(tun->security);\\nerr_free_stat:\\n\\tfree_percpu(tun->pcpu_stats);\\nerr_free_dev:\\n\\tfree_netdev(dev);\\n\\treturn err;\\n}\\n')]"
      ]
     },
     "execution_count": 3,
     "metadata": {},
     "output_type": "execute_result"
    }
   ],
   "source": [
    "def parse_code(code: str):\n",
    "    with tempfile.NamedTemporaryFile(suffix='.c') as f:\n",
    "        f.write(code.encode())\n",
    "        f.flush()\n",
    "        path = Path(f.name)\n",
    "\n",
    "        analyzer = CCodeAnalyzer(path, [])\n",
    "        analyzer.initialize()\n",
    "    return analyzer.declarations\n",
    "\n",
    "def get_changed_functions(filename):\n",
    "    with open(filename) as f:\n",
    "        data = json.load(f)\n",
    "\n",
    "    changed = []\n",
    "    for patch_file in data:\n",
    "        old_functions = parse_code(patch_file['old_contents'])\n",
    "        old_functions = old_functions[\"FUNCTION_DECL\"] if \"FUNCTION_DECL\" in old_functions else {}\n",
    "        new_functions = parse_code(patch_file['new_contents'])\n",
    "        new_functions = new_functions[\"FUNCTION_DECL\"] if \"FUNCTION_DECL\" in new_functions else {}\n",
    "\n",
    "        for old_function, old_info in old_functions.items():\n",
    "            new_info = new_functions.get(old_function)\n",
    "            if new_info is None:\n",
    "                changed.append((old_info.code, None))\n",
    "            elif new_info.code != old_info.code:\n",
    "                changed.append((old_info.code, new_info.code))\n",
    "\n",
    "    return changed\n",
    "        \n",
    "get_changed_functions(\"syzbot-data/KASAN__double-free_or_invalid-free/ddb673727990990c6ded3e7cc220e39abfc244ab.json\")\n"
   ]
  },
  {
   "cell_type": "code",
   "execution_count": 4,
   "metadata": {},
   "outputs": [
    {
     "name": "stderr",
     "output_type": "stream",
     "text": [
      "100%|██████████| 3385/3385 [05:11<00:00, 10.87it/s]\n"
     ]
    }
   ],
   "source": [
    "dataset = {}\n",
    "for file_path in tqdm(glob(f\"{FILE_DIR}/*/*.json\")):\n",
    "    # change FILE_DIR to FUNCTION_DIR\n",
    "    function_path = file_path.replace(FILE_DIR, FUNCTION_DIR)\n",
    "    if not os.path.exists(os.path.dirname(function_path)):\n",
    "        os.makedirs(os.path.dirname(function_path))\n",
    "\n",
    "    # get path without file name\n",
    "    function_path = os.path.splitext(function_path)[0]\n",
    "    category = os.path.dirname(file_path).split(\"/\")[-1]\n",
    "    changed = get_changed_functions(file_path)\n",
    "    if changed:\n",
    "        # array concat\n",
    "        if category in dataset:\n",
    "            dataset[category].extend(changed)\n",
    "        else:\n",
    "            dataset[category] = changed\n",
    "\n",
    "        for i, change in enumerate(changed):\n",
    "            # write to file\n",
    "            with open(f\"{function_path}-{i}.json\", \"w\") as f:\n",
    "                function_data = {\n",
    "                    \"vulnerable\": change[0],\n",
    "                    \"benign\": change[1],\n",
    "                }\n",
    "\n",
    "                json.dump(function_data, f)\n"
   ]
  },
  {
   "cell_type": "code",
   "execution_count": 5,
   "metadata": {},
   "outputs": [
    {
     "name": "stdout",
     "output_type": "stream",
     "text": [
      "3385\n"
     ]
    }
   ],
   "source": [
    "print (len(glob(f\"{FILE_DIR}/*/*.json\")))\n"
   ]
  },
  {
   "cell_type": "code",
   "execution_count": null,
   "metadata": {},
   "outputs": [],
   "source": []
  }
 ],
 "metadata": {
  "kernelspec": {
   "display_name": ".venv",
   "language": "python",
   "name": "python3"
  },
  "language_info": {
   "codemirror_mode": {
    "name": "ipython",
    "version": 3
   },
   "file_extension": ".py",
   "mimetype": "text/x-python",
   "name": "python",
   "nbconvert_exporter": "python",
   "pygments_lexer": "ipython3",
   "version": "3.11.0"
  }
 },
 "nbformat": 4,
 "nbformat_minor": 2
}
